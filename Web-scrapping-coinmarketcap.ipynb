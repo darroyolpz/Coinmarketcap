{
 "cells": [
  {
   "cell_type": "markdown",
   "metadata": {},
   "source": [
    "# Web-scraping-utility for token prices\n",
    "*https://coinmarketcap.com/all/views/all/*"
   ]
  },
  {
   "cell_type": "markdown",
   "metadata": {},
   "source": [
    "First of all, import all the packages needed for the website"
   ]
  },
  {
   "cell_type": "code",
   "execution_count": 1,
   "metadata": {
    "collapsed": true
   },
   "outputs": [],
   "source": [
    "import bs4 as bs\n",
    "import urllib.request\n",
    "import pandas as pd\n",
    "from pandas import ExcelWriter\n",
    "from tqdm import tqdm\n",
    "import datetime"
   ]
  },
  {
   "cell_type": "markdown",
   "metadata": {},
   "source": [
    "Create two empty lists for storing all the tokens addresses and ID's."
   ]
  },
  {
   "cell_type": "code",
   "execution_count": 2,
   "metadata": {
    "collapsed": true
   },
   "outputs": [],
   "source": [
    "links = []\n",
    "tokens = []"
   ]
  },
  {
   "cell_type": "markdown",
   "metadata": {},
   "source": [
    "Then, look for all the token addresses within the main webpage and append them to the links list."
   ]
  },
  {
   "cell_type": "code",
   "execution_count": 3,
   "metadata": {},
   "outputs": [
    {
     "name": "stdout",
     "output_type": "stream",
     "text": [
      "Wall time: 2.84 s\n"
     ]
    }
   ],
   "source": [
    "%%time\n",
    "main_webpage = 'https://coinmarketcap.com/all/views/all/'\n",
    "sauce = urllib.request.urlopen(main_webpage).read()\n",
    "soup = bs.BeautifulSoup(sauce, 'lxml')\n",
    "\n",
    "table = soup.find('table')\n",
    "for url in table.find_all('a'):\n",
    "\tpage_address = url.get('href')\n",
    "\tfirst_char = page_address[:1]\n",
    "\tlast_char = page_address[-1:]\n",
    "\tif (first_char == '/') and (last_char == '/'):\n",
    "\t\tlinks.append(page_address)"
   ]
  },
  {
   "cell_type": "markdown",
   "metadata": {},
   "source": [
    "Drop the duplicates links in the list."
   ]
  },
  {
   "cell_type": "code",
   "execution_count": 4,
   "metadata": {
    "collapsed": true
   },
   "outputs": [],
   "source": [
    "links = list(set(links))\n",
    "ln = len(links)"
   ]
  },
  {
   "cell_type": "markdown",
   "metadata": {},
   "source": [
    "Get the tokens ID's."
   ]
  },
  {
   "cell_type": "code",
   "execution_count": 5,
   "metadata": {
    "collapsed": true
   },
   "outputs": [],
   "source": [
    "for row in links:\n",
    "\trow = row.replace('/currencies/', '')\n",
    "\trow = row.replace('/', '')\n",
    "\ttokens.append(row)"
   ]
  },
  {
   "cell_type": "markdown",
   "metadata": {},
   "source": [
    "Now create a new empty dataframe where all the values will be stored."
   ]
  },
  {
   "cell_type": "code",
   "execution_count": 6,
   "metadata": {
    "collapsed": true
   },
   "outputs": [],
   "source": [
    "columns = ['Date', 'Open', 'High', 'Low', 'Close', 'Volume', 'Market Cap', 'Token']\n",
    "data = pd.DataFrame(columns = columns)"
   ]
  },
  {
   "cell_type": "markdown",
   "metadata": {},
   "source": [
    "Loop and extract the information for each token."
   ]
  },
  {
   "cell_type": "code",
   "execution_count": 7,
   "metadata": {},
   "outputs": [
    {
     "name": "stderr",
     "output_type": "stream",
     "text": [
      "100%|██████████████████████████████████████| 1385/1385 [40:07<00:00,  2.17s/it]\n"
     ]
    },
    {
     "name": "stdout",
     "output_type": "stream",
     "text": [
      "Wall time: 40min 7s\n"
     ]
    }
   ],
   "source": [
    "%%time\n",
    "for address, tkn in tqdm(zip(links, tokens), total = ln):   \n",
    "\twebpage = 'https://coinmarketcap.com' + address + 'historical-data/?start=20130428&end=20180103'\n",
    "\tsauce = urllib.request.urlopen(webpage).read()\n",
    "\tsoup = bs.BeautifulSoup(sauce, 'lxml')\n",
    "\tdf = pd.read_html(webpage)[0]\n",
    "\tdf['Token'] = tkn\n",
    "    \n",
    "\ttry:\n",
    "\t\tdata = data.append(df, ignore_index=True)\n",
    "\texcept:\n",
    "\t\tpass"
   ]
  },
  {
   "cell_type": "markdown",
   "metadata": {},
   "source": [
    "Clean the data:\n",
    "1. Drop the empty rows\n",
    "2. Replace the '-' with zeros\n",
    "3. Change the datatype\n",
    "4. Fix the Date column"
   ]
  },
  {
   "cell_type": "code",
   "execution_count": 8,
   "metadata": {
    "collapsed": true
   },
   "outputs": [],
   "source": [
    "data = data[data.Date != 'No data was found for the selected time period.']\n",
    "data['Volume'] = data['Volume'].replace('-', 0)\n",
    "data['Market Cap'] = data['Market Cap'].replace('-', 0)\n",
    "data['Volume'] = data['Volume'].astype('int64')\n",
    "data['Market Cap'] = data['Market Cap'].astype('int64')"
   ]
  },
  {
   "cell_type": "markdown",
   "metadata": {},
   "source": [
    "Use the dictionary to map the months."
   ]
  },
  {
   "cell_type": "code",
   "execution_count": 9,
   "metadata": {
    "collapsed": true
   },
   "outputs": [],
   "source": [
    "dict = {'Jan': '01', 'Feb': '02', 'Mar': '03', 'Apr': '04',\n",
    "\t\t'May': '05', 'Jun': '06', 'Jul': '07', 'Aug': '08',\n",
    "\t\t'Sep': '09', 'Oct': '10', 'Nov': '11', 'Dec': '12'}"
   ]
  },
  {
   "cell_type": "markdown",
   "metadata": {},
   "source": [
    "Extract the dates and fix the Date column."
   ]
  },
  {
   "cell_type": "code",
   "execution_count": 10,
   "metadata": {
    "collapsed": true
   },
   "outputs": [],
   "source": [
    "day = data.Date.str.slice(4, 6)\n",
    "month = data.Date.str.slice(0, 3)\n",
    "month = month.map(dict)\n",
    "year = data.Date.str.slice(8, 12)\n",
    "s = year + '/' + month + '/' + day\n",
    "data.Date = pd.to_datetime(s)"
   ]
  },
  {
   "cell_type": "markdown",
   "metadata": {},
   "source": [
    "Export to Excel"
   ]
  },
  {
   "cell_type": "code",
   "execution_count": 11,
   "metadata": {},
   "outputs": [
    {
     "name": "stdout",
     "output_type": "stream",
     "text": [
      "Wall time: 2min 37s\n"
     ]
    }
   ],
   "source": [
    "%%time\n",
    "name = 'Coinmarketcap_data.xlsx'\n",
    "writer = pd.ExcelWriter(name)\t\t\n",
    "data.to_excel(writer, index = False)\n",
    "writer.save()"
   ]
  }
 ],
 "metadata": {
  "kernelspec": {
   "display_name": "Python 3",
   "language": "python",
   "name": "python3"
  },
  "language_info": {
   "codemirror_mode": {
    "name": "ipython",
    "version": 3
   },
   "file_extension": ".py",
   "mimetype": "text/x-python",
   "name": "python",
   "nbconvert_exporter": "python",
   "pygments_lexer": "ipython3",
   "version": "3.6.2"
  }
 },
 "nbformat": 4,
 "nbformat_minor": 2
}
